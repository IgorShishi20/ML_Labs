{
  "nbformat": 4,
  "nbformat_minor": 0,
  "metadata": {
    "colab": {
      "provenance": []
    },
    "kernelspec": {
      "name": "python3",
      "display_name": "Python 3"
    },
    "language_info": {
      "name": "python"
    }
  },
  "cells": [
    {
      "cell_type": "code",
      "source": [
        "from sklearn.datasets import load_breast_cancer\n",
        "from sklearn.decomposition import PCA\n",
        "import numpy as np\n",
        "from numpy import linalg as LA\n",
        "import pandas as pd"
      ],
      "metadata": {
        "id": "FjlrvqLdWnyZ"
      },
      "execution_count": 2,
      "outputs": []
    },
    {
      "cell_type": "code",
      "execution_count": 3,
      "metadata": {
        "id": "VX-dipi3WHX9"
      },
      "outputs": [],
      "source": [
        "dataset = load_breast_cancer()"
      ]
    },
    {
      "cell_type": "code",
      "source": [
        "data_col_names = dataset.feature_names\n",
        "data = dataset.data\n",
        "target = dataset.target"
      ],
      "metadata": {
        "id": "wo98r2p7WTKh"
      },
      "execution_count": 4,
      "outputs": []
    },
    {
      "cell_type": "code",
      "source": [
        "def c_pca(initial_data, pс_number: int):\n",
        "    df = pd.DataFrame(data=initial_data, columns=data_col_names)\n",
        "    df = df - df.mean()\n",
        "    numpy_arr = pd.DataFrame(df).to_numpy()\n",
        "    cov_matr = np.cov(numpy_arr, rowvar=False)\n",
        "    eigenvalues, eigenvectors = LA.eig(cov_matr)\n",
        "    sorted_indexes = np.argsort(-eigenvalues)\n",
        "    pc_indexes = sorted_indexes[:pс_number]\n",
        "    n_principal_components = eigenvectors[:, pc_indexes]\n",
        "    dotted_data = np.dot(numpy_arr, n_principal_components)\n",
        "    return dotted_data"
      ],
      "metadata": {
        "id": "5MlvGQk9WTp6"
      },
      "execution_count": 5,
      "outputs": []
    },
    {
      "cell_type": "code",
      "source": [
        "def skl_pca(initial_data, pс_number: int):\n",
        "    X = np.array(data)\n",
        "    pca = PCA(n_components=pс_number)\n",
        "    pca.fit(X)\n",
        "    return pca.transform(data)"
      ],
      "metadata": {
        "id": "yCBIKiNRWXup"
      },
      "execution_count": 6,
      "outputs": []
    },
    {
      "cell_type": "code",
      "source": [
        "skl_pca(data, 2)"
      ],
      "metadata": {
        "colab": {
          "base_uri": "https://localhost:8080/"
        },
        "id": "ngdCRW6gWaDJ",
        "outputId": "ace2de60-a48e-4ec5-af7a-95820f85ecaf"
      },
      "execution_count": 7,
      "outputs": [
        {
          "output_type": "execute_result",
          "data": {
            "text/plain": [
              "array([[1160.1425737 , -293.91754364],\n",
              "       [1269.12244319,   15.63018184],\n",
              "       [ 995.79388896,   39.15674324],\n",
              "       ...,\n",
              "       [ 314.50175618,   47.55352518],\n",
              "       [1124.85811531,   34.12922497],\n",
              "       [-771.52762188,  -88.64310636]])"
            ]
          },
          "metadata": {},
          "execution_count": 7
        }
      ]
    },
    {
      "cell_type": "code",
      "source": [
        "skl_pca(data, 3)"
      ],
      "metadata": {
        "colab": {
          "base_uri": "https://localhost:8080/"
        },
        "id": "TLwXAKkoWc3Z",
        "outputId": "a7d92b7d-bad9-4f9b-a24c-d0c81754d897"
      },
      "execution_count": 8,
      "outputs": [
        {
          "output_type": "execute_result",
          "data": {
            "text/plain": [
              "array([[1160.1425737 , -293.91754364,   48.57839763],\n",
              "       [1269.12244319,   15.63018184,  -35.39453423],\n",
              "       [ 995.79388896,   39.15674324,   -1.70975298],\n",
              "       ...,\n",
              "       [ 314.50175618,   47.55352518,  -10.44240718],\n",
              "       [1124.85811531,   34.12922497,  -19.74208742],\n",
              "       [-771.52762188,  -88.64310636,   23.88903189]])"
            ]
          },
          "metadata": {},
          "execution_count": 8
        }
      ]
    },
    {
      "cell_type": "code",
      "source": [
        "skl_pca(data, 4)"
      ],
      "metadata": {
        "colab": {
          "base_uri": "https://localhost:8080/"
        },
        "id": "1tsMLfGjWfEo",
        "outputId": "aeb452fa-c5b6-4cfe-9d8e-a347de70f720"
      },
      "execution_count": 9,
      "outputs": [
        {
          "output_type": "execute_result",
          "data": {
            "text/plain": [
              "array([[1160.1425737 , -293.91754364,   48.57839763,   -8.71197531],\n",
              "       [1269.12244319,   15.63018184,  -35.39453423,   17.86128323],\n",
              "       [ 995.79388896,   39.15674324,   -1.70975298,    4.1993401 ],\n",
              "       ...,\n",
              "       [ 314.50175618,   47.55352518,  -10.44240718,   -9.77188104],\n",
              "       [1124.85811531,   34.12922497,  -19.74208742,  -23.66088144],\n",
              "       [-771.52762188,  -88.64310636,   23.88903189,    2.54724855]])"
            ]
          },
          "metadata": {},
          "execution_count": 9
        }
      ]
    },
    {
      "cell_type": "code",
      "source": [
        "c_pca(data, 2)"
      ],
      "metadata": {
        "colab": {
          "base_uri": "https://localhost:8080/"
        },
        "id": "pL6JMgtVWf9Z",
        "outputId": "968f1538-7bcc-4964-cfdb-7d21c17e2d58"
      },
      "execution_count": 10,
      "outputs": [
        {
          "output_type": "execute_result",
          "data": {
            "text/plain": [
              "array([[1160.1425737 , -293.91754364],\n",
              "       [1269.12244319,   15.63018184],\n",
              "       [ 995.79388896,   39.15674324],\n",
              "       ...,\n",
              "       [ 314.50175618,   47.55352518],\n",
              "       [1124.85811531,   34.12922497],\n",
              "       [-771.52762188,  -88.64310636]])"
            ]
          },
          "metadata": {},
          "execution_count": 10
        }
      ]
    },
    {
      "cell_type": "code",
      "source": [
        "c_pca(data, 3)"
      ],
      "metadata": {
        "colab": {
          "base_uri": "https://localhost:8080/"
        },
        "id": "VW2jLJv_WlIi",
        "outputId": "b676fca0-c9ef-4c79-e8be-91b74c4dc7a7"
      },
      "execution_count": 11,
      "outputs": [
        {
          "output_type": "execute_result",
          "data": {
            "text/plain": [
              "array([[1160.1425737 , -293.91754364,   48.57839763],\n",
              "       [1269.12244319,   15.63018184,  -35.39453423],\n",
              "       [ 995.79388896,   39.15674324,   -1.70975298],\n",
              "       ...,\n",
              "       [ 314.50175618,   47.55352518,  -10.44240718],\n",
              "       [1124.85811531,   34.12922497,  -19.74208742],\n",
              "       [-771.52762188,  -88.64310636,   23.88903189]])"
            ]
          },
          "metadata": {},
          "execution_count": 11
        }
      ]
    },
    {
      "cell_type": "code",
      "source": [
        "c_pca(data, 4)"
      ],
      "metadata": {
        "colab": {
          "base_uri": "https://localhost:8080/"
        },
        "id": "g4qqDNqQWl3g",
        "outputId": "f81f47f9-7521-49af-a714-074a8ab7568e"
      },
      "execution_count": 12,
      "outputs": [
        {
          "output_type": "execute_result",
          "data": {
            "text/plain": [
              "array([[1160.1425737 , -293.91754364,   48.57839763,   -8.71197531],\n",
              "       [1269.12244319,   15.63018184,  -35.39453423,   17.86128323],\n",
              "       [ 995.79388896,   39.15674324,   -1.70975298,    4.1993401 ],\n",
              "       ...,\n",
              "       [ 314.50175618,   47.55352518,  -10.44240718,   -9.77188104],\n",
              "       [1124.85811531,   34.12922497,  -19.74208742,  -23.66088144],\n",
              "       [-771.52762188,  -88.64310636,   23.88903189,    2.54724855]])"
            ]
          },
          "metadata": {},
          "execution_count": 12
        }
      ]
    }
  ]
}
