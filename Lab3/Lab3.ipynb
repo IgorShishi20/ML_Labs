{
  "nbformat": 4,
  "nbformat_minor": 0,
  "metadata": {
    "colab": {
      "provenance": []
    },
    "kernelspec": {
      "name": "python3",
      "display_name": "Python 3"
    },
    "language_info": {
      "name": "python"
    }
  },
  "cells": [
    {
      "cell_type": "markdown",
      "source": [
        "# Практика 17.10.23\n",
        "\n",
        "1. Сгенерировать, используя модуль псевдослучайных чисел `random`, или ввести с клавиатуры список целых чисел. Вывести в консоль, затем перевернуть его и снова вывести в консоль.\n",
        "\n",
        "2. Сгенерировать, используя модуль псевдослучайных чисел `random`, или ввести с клавиатуры два списка целых чисел. Вывести их в консоль. Создать новый пустой список. Добавить в него все четные (по индексу) элементы первого списка и все нечетные (по индексу) элементы второго списка. Вывести третий список в консоль.\n",
        "\n",
        "3. Сгенерировать, используя модуль псевдослучайных чисел `random`, или ввести с клавиатуры список произвольных элементов (целые числа, числа с плавающей точкой, строки). Вывести в консоль. Убрать из него все дубликаты через приведение типов. Вывести в консоль.\n",
        "\n",
        "4. Сгенерировать, используя модуль псевдослучайных чисел `random`, или ввести с клавиатуры словарь, где ключом является строка, значением — целое число или число с плавающей точкой. Вывести в консоль. Для всех уникальных значений создать кортеж, где первым элементом будет значение, вторым — список связанных с ним ключей. Собрать эти кортежи в список, вывести его в консоль.\n",
        "\n",
        "5. Сгенерировать, используя модуль псевдослучайных чисел `random`, или ввести с клавиатуры два словаря, где ключом является строка, значением — целое число или число с плавающей точкой. Вывести в консоль. Найти пересечения множеств значений словарей. Создать новый словарь, содержащий только те пары ключ-значение, значения из которых входит в пересечение. Вывести в консоль.\n",
        "\n",
        "[Ссылка на документацию](https://docs.python.org/3/library/random.html)"
      ],
      "metadata": {
        "id": "64JPlHixec69"
      }
    },
    {
      "cell_type": "markdown",
      "source": [
        "## Задание 1"
      ],
      "metadata": {
        "id": "khjUmcSBfC_P"
      }
    },
    {
      "cell_type": "markdown",
      "source": [
        "### Эталонный пример 1"
      ],
      "metadata": {
        "id": "HAVFiCLPo28O"
      }
    },
    {
      "cell_type": "code",
      "source": [],
      "metadata": {
        "id": "hBqwHtZsfA9w"
      },
      "execution_count": null,
      "outputs": []
    },
    {
      "cell_type": "markdown",
      "source": [
        "#### Шишигин Игорь Андреевич - Задание 1"
      ],
      "metadata": {
        "id": "J0j2RNGho6KG"
      }
    },
    {
      "cell_type": "code",
      "source": [
        "import random\n",
        "arr = []\n",
        "N = int(input())\n",
        "for i in range(N):\n",
        "  num = random.randint(-1000000,10000000)\n",
        "  arr.append(num)\n",
        "print(\" Forward\",'\\n',arr,'\\n',\"Backward\")\n",
        "arr.reverse()\n",
        "print(\"\",arr)"
      ],
      "metadata": {
        "id": "oZVYzduGpBpC",
        "colab": {
          "base_uri": "https://localhost:8080/"
        },
        "outputId": "73ebb2cc-d4e6-47b6-bc57-0ab0adef257b"
      },
      "execution_count": null,
      "outputs": [
        {
          "output_type": "stream",
          "name": "stdout",
          "text": [
            "20\n",
            " Forward \n",
            " [5044883, 8840165, 8612293, 6835460, 648759, 5848379, 9104722, 8147205, 710124, 3213884, 8585217, 1195304, 4638905, 8470518, 25833, 9076763, -714365, 577538, 2976157, 7473110] \n",
            " Backward\n",
            " [7473110, 2976157, 577538, -714365, 9076763, 25833, 8470518, 4638905, 1195304, 8585217, 3213884, 710124, 8147205, 9104722, 5848379, 648759, 6835460, 8612293, 8840165, 5044883]\n"
          ]
        }
      ]
    },
    {
      "cell_type": "markdown",
      "source": [
        "## Задание 2"
      ],
      "metadata": {
        "id": "a1gbYjASfIqJ"
      }
    },
    {
      "cell_type": "code",
      "source": [
        "arr1 = []\n",
        "arr2 = []\n",
        "arr3 = []\n",
        "for i in range(N):\n",
        "  arr1.append( random.randint(-1000000,10000000))\n",
        "  arr2.append(random.randint(-1000000,10000000))\n",
        "\n",
        "for i in range(N//2):\n",
        "  arr3.append(arr1[2*i])\n",
        "  arr3.append(arr2[2*i+1])\n",
        "print(\"Array 1 is\",arr1,'\\n',\"Array 2 is\",arr2,'\\n',\"Array 3 is\",arr3)"
      ],
      "metadata": {
        "id": "3DFZiLwJfMfC",
        "colab": {
          "base_uri": "https://localhost:8080/"
        },
        "outputId": "0d558840-c449-4f0b-a8f6-91b5826f7f04"
      },
      "execution_count": null,
      "outputs": [
        {
          "output_type": "stream",
          "name": "stdout",
          "text": [
            "Array 1 is [7608893, 6550454, 7789906, 1433128, 4456483, 6572422, 7838658, 9687269, 8960758, 6023358, 3233932, 8085104, 1495808, 6093393, 3037780, 617431, 3489052, 7583476, 6096512, 7084939] \n",
            " Array 2 is [156264, 7883069, 557593, 7468906, 3533417, 5992594, 9641549, 4567397, 9340202, -578860, 1036054, 3097139, 4786241, 3268162, 733141, 2877985, 1429741, 4827373, 4369400, 9284022] \n",
            " Array 3 is [7608893, 7883069, 7789906, 7468906, 4456483, 5992594, 7838658, 4567397, 8960758, -578860, 3233932, 3097139, 1495808, 3268162, 3037780, 2877985, 3489052, 4827373, 6096512, 9284022]\n"
          ]
        }
      ]
    },
    {
      "cell_type": "markdown",
      "source": [
        "## Задание 3"
      ],
      "metadata": {
        "id": "ZITkT8YUfM8t"
      }
    },
    {
      "cell_type": "code",
      "source": [
        "arr_new = []\n",
        "\n",
        "for i in range(N):\n",
        "  new_num = random.randint(-20,20)\n",
        "  arr_new.append(new_num)\n",
        "\n",
        "new_set = set(arr_new)\n",
        "\n",
        "print(arr_new,'\\n',new_set)\n"
      ],
      "metadata": {
        "id": "FL_u4MSlfS1w",
        "colab": {
          "base_uri": "https://localhost:8080/"
        },
        "outputId": "dc72207d-5dc9-460d-f190-7e422d2866eb"
      },
      "execution_count": null,
      "outputs": [
        {
          "output_type": "stream",
          "name": "stdout",
          "text": [
            "[-19, 15, 14, -18, -1, -4, -5, -11, 8, 15, 12, -19, 17, 2, -15, 19, 0, -4, 2, -12] \n",
            " {0, 2, 8, 12, -19, -18, 14, 15, 17, -15, 19, -12, -11, -5, -4, -1}\n"
          ]
        }
      ]
    },
    {
      "cell_type": "markdown",
      "source": [
        "## Задание 4"
      ],
      "metadata": {
        "id": "sqvNf2a6fTdY"
      }
    },
    {
      "cell_type": "code",
      "source": [
        "import string\n",
        "\n",
        "def get_random_string(length):\n",
        "  letters = string.ascii_lowercase\n",
        "  result_str = ''.join(random.choice(letters) for i in range(length))\n",
        "  return result_str\n",
        "\n",
        "def get_keys(dict, value):\n",
        "  keylist = []\n",
        "  for keys, val in dict.items():\n",
        "    if val == value:\n",
        "      keylist.append(keys)\n",
        "  return keylist\n",
        "\n",
        "mydict = {}\n",
        "value = 0\n",
        "\n",
        "for i in range(25):\n",
        "  mydict.update({get_random_string(5):random.randint(-20,20)})\n",
        "\n",
        "print(\"Dictionary is\",mydict)\n",
        "new_tuple_list = []\n",
        "\n",
        "for i in set(mydict.values()):\n",
        "  new_tuple_list.append((i,get_keys(mydict,i)))\n",
        "\n",
        "\n",
        "print(\"List is\",new_tuple_list)"
      ],
      "metadata": {
        "id": "3M4BCixjfXoq",
        "colab": {
          "base_uri": "https://localhost:8080/"
        },
        "outputId": "888b9a91-295d-4c9d-b1c8-f7561e7f3d23"
      },
      "execution_count": null,
      "outputs": [
        {
          "output_type": "stream",
          "name": "stdout",
          "text": [
            "Dictionary is {'ldrsm': -19, 'ttepr': 6, 'tbfmq': 13, 'jgohm': 5, 'rcotn': -16, 'disuc': 9, 'mtydu': -4, 'pheil': 20, 'pebcm': -11, 'zekdj': -9, 'sgaxi': 8, 'zopxy': 0, 'ekdcc': -18, 'fjxpe': 2, 'objll': -7, 'ymtmd': 1, 'ahjus': 17, 'mqdix': 17, 'fsuvz': -7, 'wjvmm': 8, 'cbhms': 5, 'lxwfk': 19, 'nsziv': -2, 'svmfz': 20, 'xkjhe': 4}\n",
            "List is [(0, ['zopxy']), (1, ['ymtmd']), (2, ['fjxpe']), (4, ['xkjhe']), (5, ['jgohm', 'cbhms']), (6, ['ttepr']), (8, ['sgaxi', 'wjvmm']), (9, ['disuc']), (13, ['tbfmq']), (17, ['ahjus', 'mqdix']), (19, ['lxwfk']), (20, ['pheil', 'svmfz']), (-19, ['ldrsm']), (-18, ['ekdcc']), (-16, ['rcotn']), (-11, ['pebcm']), (-9, ['zekdj']), (-7, ['objll', 'fsuvz']), (-4, ['mtydu']), (-2, ['nsziv'])]\n"
          ]
        }
      ]
    },
    {
      "cell_type": "markdown",
      "source": [
        "## Задание 5"
      ],
      "metadata": {
        "id": "3V5mJOBQfYHe"
      }
    },
    {
      "cell_type": "code",
      "source": [
        "\n",
        "\n",
        "dict1 = {}\n",
        "dict2 = {}\n",
        "\n",
        "for i in range(25):\n",
        "  dict1.update({get_random_string(5):random.randint(-20,20)})\n",
        "  dict2.update({get_random_string(5):random.randint(-20,20)})\n",
        "\n",
        "print(\"Dictionary 1 is\",dict1)\n",
        "print(\"Dictionaty 2 is\",dict2)\n",
        "\n",
        "intersection = [value for value in list(dict1.values()) if value in list(dict2.values())]\n",
        "\n",
        "print(\"Intersection of values\",intersection)\n",
        "\n",
        "pairs = {}\n",
        "\n",
        "for key,value in dict1.items():\n",
        "  if value in intersection:\n",
        "    pairs.update({key:value})\n",
        "\n",
        "for key,value in dict2.items():\n",
        "  if value in intersection:\n",
        "    pairs.update({key:value})\n",
        "\n",
        "print(\"Pairs from intersection of values are\",pairs)"
      ],
      "metadata": {
        "id": "ekN9ImbzfZ2Z",
        "colab": {
          "base_uri": "https://localhost:8080/"
        },
        "outputId": "167bbdd9-cb6e-4ae6-a533-5e7607b87ddc"
      },
      "execution_count": null,
      "outputs": [
        {
          "output_type": "stream",
          "name": "stdout",
          "text": [
            "Dictionary 1 is {'ufxnx': -10, 'pzlpr': 2, 'neadb': -4, 'yrgza': 19, 'lvsjq': -7, 'whxhr': -17, 'peuot': -20, 'cupmb': -10, 'fsugb': 10, 'lbast': 2, 'wtrqs': -20, 'sydad': 5, 'ozprv': -20, 'acsur': 14, 'wnscq': 11, 'soutf': 14, 'fehnu': -14, 'tcfci': 16, 'chqlz': -11, 'ynkta': -6, 'fonri': 9, 'oycnp': -8, 'ticwh': -10, 'ulvjb': -20, 'ydpwt': -19}\n",
            "Dictionaty 2 is {'kyubx': -18, 'juawy': -12, 'cgzik': -20, 'rrdaw': 14, 'lkmro': -6, 'lwxmm': -3, 'hycgn': -3, 'pwdtu': -8, 'pyask': 20, 'flsfy': 17, 'pgwdl': -17, 'bcosr': 3, 'gwibq': -8, 'pfekb': 4, 'xdebz': 18, 'lgbib': 10, 'kpiut': 9, 'veeju': -15, 'padwj': 20, 'luxxz': 8, 'sjqep': -14, 'zprhj': 20, 'wwkpw': 10, 'yctev': -11, 'ppikw': -17}\n",
            "Intersection of values [-17, -20, 10, -20, -20, 14, 14, -14, -11, -6, 9, -8, -20]\n",
            "Pairs from intersection of values are {'whxhr': -17, 'peuot': -20, 'fsugb': 10, 'wtrqs': -20, 'ozprv': -20, 'acsur': 14, 'soutf': 14, 'fehnu': -14, 'chqlz': -11, 'ynkta': -6, 'fonri': 9, 'oycnp': -8, 'ulvjb': -20, 'cgzik': -20, 'rrdaw': 14, 'lkmro': -6, 'pwdtu': -8, 'pgwdl': -17, 'gwibq': -8, 'lgbib': 10, 'kpiut': 9, 'sjqep': -14, 'wwkpw': 10, 'yctev': -11, 'ppikw': -17}\n"
          ]
        }
      ]
    }
  ]
}
